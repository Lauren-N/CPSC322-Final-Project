{
 "cells": [
  {
   "cell_type": "markdown",
   "metadata": {},
   "source": [
    "# Name of Project Here\n",
    "\n",
    "Team members: Lauren Chin and Lauren Nguyen\n"
   ]
  },
  {
   "cell_type": "markdown",
   "metadata": {},
   "source": [
    "## Dataset\n",
    "\n",
    "* Source:\n",
    "* Format:\n",
    "* Contents:\n",
    "* Attributes:\n"
   ]
  },
  {
   "cell_type": "markdown",
   "metadata": {},
   "source": [
    "## Implementation/Technical Merit\n",
    "\n",
    "### Anticipated Challenges\n",
    "* Pre-processing:\n",
    "* Classification: \n"
   ]
  },
  {
   "cell_type": "markdown",
   "metadata": {},
   "source": [
    "## Potential Impact of Results\n",
    "\n",
    "* Why these results are useful:\n",
    "* Stakeholders:\n"
   ]
  }
 ],
 "metadata": {
  "language_info": {
   "name": "python"
  }
 },
 "nbformat": 4,
 "nbformat_minor": 2
}
