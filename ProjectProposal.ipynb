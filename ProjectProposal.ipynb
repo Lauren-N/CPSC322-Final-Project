{
 "cells": [
  {
   "cell_type": "code",
   "execution_count": 460,
   "metadata": {},
   "outputs": [
    {
     "data": {
      "text/plain": [
       "<module 'classifier' from 'c:\\\\Users\\\\dzuy\\\\desktop\\\\CPSC322-Final-Project\\\\classifier.py'>"
      ]
     },
     "execution_count": 460,
     "metadata": {},
     "output_type": "execute_result"
    }
   ],
   "source": [
    "import importlib\n",
    "\n",
    "import myutils\n",
    "importlib.reload(myutils)\n",
    "\n",
    "import classifier\n",
    "importlib.reload(classifier)"
   ]
  },
  {
   "cell_type": "markdown",
   "metadata": {},
   "source": [
    "# **Asthma Diagnosis**\n",
    "\n",
    "### *Team members: Lauren Chin and Lauren Nguyen*"
   ]
  },
  {
   "cell_type": "markdown",
   "metadata": {},
   "source": [
    "## Dataset\n",
    "\n",
    "* Source: [Asthma Dataset](https://www.kaggle.com/datasets/rabieelkharoua/asthma-disease-dataset) \n",
    "* Format: CSV File\n",
    "* Contents: This data set contains the patient information for those who are diagnosed with Asthma. Asthma is a chronic lung disease that causes inflamation and tightening of the airways, often making it hard to breath. This dataset contains 2,392 different patients that involve their medical history, symptoms, allergies, and much more.\n",
    "* Attributes:\n",
    "    * `PatientID` - a unique identifier for each patient\n",
    "    * `Age` - age of patient\n",
    "    * `Gender` - 0 for male and 1 for female\n",
    "    * `Ethnicity` - encoded as:\n",
    "        * 0: Caucasian\n",
    "        * 1: African American\n",
    "        * 2: Asian\n",
    "        * 3: Other\n",
    "    * `EducationLevel` - encoded as:\n",
    "        * 0: None\n",
    "        * 1: High School\n",
    "        * 2: Bachelors\n",
    "        * 3: Higher\n",
    "    * `BMI` - body mass index, ranges from 15-40\n",
    "    * `Smoking` - 0 for no and 1 for yes\n",
    "    * `PhysicalActivity` - weekly physical activity(hours), ranges 0-10\n",
    "    * `DietQuality` - ranges from 0-10\n",
    "    * `SleepQuality` - ranges from 4-10\n",
    "    * `PollutionExposure` - scored from 0-10\n",
    "    * `PollenExposure` - scored from 0-10\n",
    "    * `DustExposure` - scored from 0-10\n",
    "    * `LungFunctionFEV1` - Forced Expiratory Volume in 1 second (FEV1), ranging from 1.0 to 4.0 liters.\n",
    "    * `LungFunctionFVC` - Forced Vital Capacity (FVC), ranging from 1.5 to 6.0 liters.\n",
    "    * `PetAllergy`\n",
    "    * `FamilyHistoryAsthma` \n",
    "    * `HistoryOfAllergies`\n",
    "    * `Eczema` \n",
    "    * `HayFever` \n",
    "    * `GastroesophagealReflux`\n",
    "    * `Wheezing`\n",
    "    * `Coughing`\n",
    "    * `ChestTightness`\n",
    "    * `ShortnessOfBreath`\n",
    "    * `NighttimeSymptoms`\n",
    "    * `ExerciseInduced`\n",
    "    * `DoctorInCharge` - doctor in charge, confidential for all instances\n",
    "    * **`Diagnosis`** - diagnosis status for asthma patient. 0 for no and 1 for yes\n",
    "\n",
    "    \n",
    "    "
   ]
  },
  {
   "cell_type": "markdown",
   "metadata": {},
   "source": [
    "## Implementation/Technical Merit\n",
    "\n",
    "### Anticipated Challenges\n",
    "* Pre-processing:\n",
    "    * Because there are so many attributes, deciding to use a subset of them or all of them\n",
    "        * To pare down the attributes, we could randomly select different subsets and compare the model performances to select the \"best\" attributes\n",
    "        * However, we instead will likely use unsupervised learning to graph the attributes in comparison to the classifier attribute and determine which attributes have the strongest correlations and use those\n",
    "    * Discretizing our dataset could be a challenge because there are many attributes with float values that are quite specific (lots of decimal places)\n",
    "        * For example some of these attributes are: PhysicalActivity (0-10, but float long decimals), DietQuality (0-10, but float long decimals), SleepQuality (4-10, but float long decimals), and others\n",
    "\n",
    "* Classification: \n",
    "    * Because there are so many attributes, making sure that we don't overfit our model\n",
    "    "
   ]
  },
  {
   "cell_type": "markdown",
   "metadata": {},
   "source": [
    "## Potential Impact of Results\n",
    "\n",
    "* Why these results are useful:\n",
    "    * We are looking at the asthma dataset with the goal of creating classifiers to predict if someone has asthma or not\n",
    "    * These results are useful because it can help with medical diagnosis\n",
    "    * While asthma isn't as life threatening as a disease like cancer, detection is still important so measures can be taken to help ease symptoms for patients\n",
    "\n",
    "* Stakeholders:\n",
    "    * Doctors (people who have to make the medical diagnosis)\n",
    "    * Patients (people who could potentially have asthma)\n"
   ]
  },
  {
   "cell_type": "markdown",
   "metadata": {},
   "source": [
    "# Loading Data"
   ]
  },
  {
   "cell_type": "code",
   "execution_count": 461,
   "metadata": {},
   "outputs": [],
   "source": [
    "table = myutils.load('asthma_disease_data.csv')\n",
    "\n",
    "headers = table.pop(0)"
   ]
  },
  {
   "cell_type": "markdown",
   "metadata": {},
   "source": [
    "# Cleaning\n",
    "\n",
    "1. Removing unnecessary features\n",
    "    * `EducationLevel`\n",
    "    * `DoctorInCharge`"
   ]
  },
  {
   "cell_type": "code",
   "execution_count": 462,
   "metadata": {},
   "outputs": [],
   "source": [
    "#table, headers = utils.remove_cols(table, headers, ['EducationLevel', 'DoctorInCharge'])\n",
    "\n",
    "yes = []\n",
    "no = []\n",
    "\n",
    "for i in range(len(table)):\n",
    "    if table[i][-1] == \"1\":\n",
    "        yes.append(table[i])\n",
    "    else:\n",
    "        no.append(table[i])\n",
    "    \n",
    "myutils.randomize_in_place(no)\n",
    "table = yes + no[:900]\n",
    "\n",
    "myutils.randomize_in_place(table)"
   ]
  },
  {
   "cell_type": "markdown",
   "metadata": {},
   "source": [
    "# Exploratory Data Analysis (EDA)\n",
    "\n",
    "## Data Visualization\n",
    "1. Distribution of Diagnosis\n",
    "\n",
    "2. Visualizations for the following attributes:\n",
    "    * Age vs. Diagnosis\n",
    "    * Gender vs. Diagnosis\n",
    "    * Ethnicity vs. Diagnosis\n",
    "    * BMI vs. Diagnosis\n",
    "    * Smoking vs. Diagnosis\n",
    "    * PhysicalActivity vs. Diagnosis\n",
    "    * PollutionExposure vs. Diagnosis\n",
    "    * LungFunctionFEV1 vs. Diagnosis\n",
    "    * LungFunctionFVC vs. Diagnosis"
   ]
  },
  {
   "cell_type": "code",
   "execution_count": 463,
   "metadata": {},
   "outputs": [
    {
     "data": {
      "image/png": "[encoded data removed]",
      "text/plain": [
       "<Figure size 432x288 with 1 Axes>"
      ]
     },
     "metadata": {},
     "output_type": "display_data"
    }
   ],
   "source": [
    "import matplotlib.pyplot as plt \n",
    "import numpy as np\n",
    "from scipy import stats\n",
    "\n",
    "importlib.reload(myutils)\n",
    "np.random.seed(0)\n",
    "\n",
    "# Diagnosis Distribution\n",
    "y = [int(val) for val in myutils.get_column(table, headers, \"Diagnosis\")]\n",
    "\n",
    "# Calculate the counts of 0's and 1's\n",
    "counts = [y.count(0), y.count(1)]\n",
    "\n",
    "# Pie chart function\n",
    "def pie_chart(labels, sizes, title):\n",
    "    plt.figure()\n",
    "    plt.pie(sizes, labels=labels, autopct=\"%1.1f%%\", startangle=90)\n",
    "    plt.axis(\"equal\")  # Equal aspect ratio so pie is drawn as circle\n",
    "    plt.title(title)\n",
    "    plt.show()\n",
    "\n",
    "# Call the function with labels (0 and 1) and their corresponding counts\n",
    "pie_chart([\"No\", \"Yes\"], counts, \"Distribution of Diagnosis\")"
   ]
  },
  {
   "cell_type": "code",
   "execution_count": 464,
   "metadata": {},
   "outputs": [
    {
     "data": {
      "image/png": "[encoded data removed]",
      "text/plain": [
       "<Figure size 432x288 with 1 Axes>"
      ]
     },
     "metadata": {
      "needs_background": "light"
     },
     "output_type": "display_data"
    },
    {
     "data": {
      "image/png": "[encoded data removed]",
      "text/plain": [
       "<Figure size 432x288 with 1 Axes>"
      ]
     },
     "metadata": {
      "needs_background": "light"
     },
     "output_type": "display_data"
    }
   ],
   "source": [
    "# Age vs Diagnosis\n",
    "x = [int(val) for val in myutils.get_column(table, headers, \"Age\")]\n",
    "\n",
    "# Scatter Plot\n",
    "plt.scatter(x,y)\n",
    "plt.title(\"Age vs. Diagnosis\")\n",
    "\n",
    "# Box Plots\n",
    "# Splitting age based on diagnosis\n",
    "age_diagnosis_0 = [age for age, diag in zip(x, y) if diag == 0]\n",
    "age_diagnosis_1 = [age for age, diag in zip(x, y) if diag == 1]\n",
    "\n",
    "# Box plot function\n",
    "def box_plot(distributions, labels, title):\n",
    "    plt.figure()\n",
    "    plt.boxplot(distributions, labels=labels)\n",
    "    plt.title(title)\n",
    "    plt.show()\n",
    "\n",
    "# Calling the box plot function with the data\n",
    "box_plot([age_diagnosis_0, age_diagnosis_1], [\"Diagnosis = 0\", \"Diagnosis = 1\"], \"Age vs. Diagnosis\")"
   ]
  },
  {
   "cell_type": "code",
   "execution_count": 465,
   "metadata": {},
   "outputs": [
    {
     "data": {
      "image/png": "[encoded data removed]",
      "text/plain": [
       "<Figure size 432x288 with 1 Axes>"
      ]
     },
     "metadata": {
      "needs_background": "light"
     },
     "output_type": "display_data"
    }
   ],
   "source": [
    "# Gender vs Diagnosis\n",
    "x = [int(val) for val in myutils.get_column(table, headers, \"Gender\")]\n",
    "\n",
    "# Counting the number of males (Gender = 0) and females (Gender = 1) for each Diagnosis category\n",
    "gender_counts_0 = [sum(1 for gender, diag in zip(x, y) if gender == 0 and diag == 0),  # Male (Gender = 0) and Diagnosis = 0\n",
    "                   sum(1 for gender, diag in zip(x, y) if gender == 0 and diag == 1)]  # Male (Gender = 0) and Diagnosis = 1\n",
    "\n",
    "gender_counts_1 = [sum(1 for gender, diag in zip(x, y) if gender == 1 and diag == 0),  # Female (Gender = 1) and Diagnosis = 0\n",
    "                   sum(1 for gender, diag in zip(x, y) if gender == 1 and diag == 1)]  # Female (Gender = 1) and Diagnosis = 1\n",
    "\n",
    "# Bar chart function\n",
    "def bar_chart(x, y, title):\n",
    "    plt.figure()\n",
    "    width = 0.3  # Width of bars\n",
    "    index = np.arange(len(x))  # Positions of bars\n",
    "    \n",
    "    # Plotting bars for males and females\n",
    "    plt.bar(index - width/2, y[0], width, label=\"Male (0)\")  # Bars for males\n",
    "    plt.bar(index + width/2, y[1], width, label=\"Female (1)\")  # Bars for females\n",
    "    \n",
    "    # Adding labels, title, and legend\n",
    "    plt.xlabel('Diagnosis')\n",
    "    plt.ylabel('Count')\n",
    "    plt.title(title)\n",
    "    plt.xticks(index, x)  # Set x-axis labels to 'Diagnosis = 0' and 'Diagnosis = 1'\n",
    "    plt.legend()\n",
    "    \n",
    "    plt.show()\n",
    "\n",
    "# Labels and counts for bar chart\n",
    "labels = ['Diagnosis = 0', 'Diagnosis = 1']\n",
    "# Counts for males and females in a tuple (male counts, female counts)\n",
    "counts = [gender_counts_0, gender_counts_1]\n",
    "\n",
    "# Calling the bar chart function with the data\n",
    "bar_chart(labels, counts, \"Gender vs. Diagnosis\")"
   ]
  },
  {
   "cell_type": "code",
   "execution_count": 466,
   "metadata": {},
   "outputs": [
    {
     "data": {
      "image/png": "[encoded data removed]",
      "text/plain": [
       "<Figure size 432x288 with 1 Axes>"
      ]
     },
     "metadata": {
      "needs_background": "light"
     },
     "output_type": "display_data"
    }
   ],
   "source": [
    "# Ethnicity vs Diagnosis\n",
    "x = [int(val) for val in myutils.get_column(table, headers, \"Ethnicity\")]\n",
    "\n",
    "# Counting the number of individuals in each ethnicity group (0: Caucasian, 1: African American, 2: Asian, 3: Other) for each Diagnosis category\n",
    "ethnicity_counts_0 = [\n",
    "    sum(1 for ethnicity, diag in zip(x, y) if ethnicity == 0 and diag == 0),  # Caucasian (Ethnicity = 0) and Diagnosis = 0\n",
    "    sum(1 for ethnicity, diag in zip(x, y) if ethnicity == 0 and diag == 1)   # Caucasian (Ethnicity = 0) and Diagnosis = 1\n",
    "]\n",
    "\n",
    "ethnicity_counts_1 = [\n",
    "    sum(1 for ethnicity, diag in zip(x, y) if ethnicity == 1 and diag == 0),  # African American (Ethnicity = 1) and Diagnosis = 0\n",
    "    sum(1 for ethnicity, diag in zip(x, y) if ethnicity == 1 and diag == 1)   # African American (Ethnicity = 1) and Diagnosis = 1\n",
    "]\n",
    "\n",
    "ethnicity_counts_2 = [\n",
    "    sum(1 for ethnicity, diag in zip(x, y) if ethnicity == 2 and diag == 0),  # Asian (Ethnicity = 2) and Diagnosis = 0\n",
    "    sum(1 for ethnicity, diag in zip(x, y) if ethnicity == 2 and diag == 1)   # Asian (Ethnicity = 2) and Diagnosis = 1\n",
    "]\n",
    "\n",
    "ethnicity_counts_3 = [\n",
    "    sum(1 for ethnicity, diag in zip(x, y) if ethnicity == 3 and diag == 0),  # Other (Ethnicity = 3) and Diagnosis = 0\n",
    "    sum(1 for ethnicity, diag in zip(x, y) if ethnicity == 3 and diag == 1)   # Other (Ethnicity = 3) and Diagnosis = 1\n",
    "]\n",
    "\n",
    "# Bar chart function\n",
    "def bar_chart(x, y, title):\n",
    "    plt.figure()\n",
    "    width = 0.15  # Width of bars\n",
    "    index = np.arange(len(x))  # Positions of bars\n",
    "    \n",
    "    # Plotting bars for each ethnicity\n",
    "    plt.bar(index - 1.5 * width, y[0], width, label=\"Caucasian (0)\")  # Bars for Caucasian\n",
    "    plt.bar(index - 0.5 * width, y[1], width, label=\"African American (1)\")  # Bars for African American\n",
    "    plt.bar(index + 0.5 * width, y[2], width, label=\"Asian (2)\")  # Bars for Asian\n",
    "    plt.bar(index + 1.5 * width, y[3], width, label=\"Other (3)\")  # Bars for Other\n",
    "    \n",
    "    # Adding labels, title, and legend\n",
    "    plt.xlabel('Diagnosis')\n",
    "    plt.ylabel('Count')\n",
    "    plt.title(title)\n",
    "    plt.xticks(index, x)  # Set x-axis labels to 'Diagnosis = 0' and 'Diagnosis = 1'\n",
    "    plt.legend()\n",
    "    \n",
    "    plt.show()\n",
    "\n",
    "# Labels and counts for bar chart\n",
    "labels = ['Diagnosis = 0', 'Diagnosis = 1']\n",
    "# Counts for each ethnicity group in a tuple (Caucasian counts, African American counts, Asian counts, Other counts)\n",
    "counts = [ethnicity_counts_0, ethnicity_counts_1, ethnicity_counts_2, ethnicity_counts_3]\n",
    "\n",
    "# Calling the bar chart function with the data\n",
    "bar_chart(labels, counts, \"Ethnicity vs. Diagnosis\")\n"
   ]
  },
  {
   "cell_type": "code",
   "execution_count": 467,
   "metadata": {},
   "outputs": [
    {
     "data": {
      "image/png": "[encoded data removed]",
      "text/plain": [
       "<Figure size 576x432 with 1 Axes>"
      ]
     },
     "metadata": {
      "needs_background": "light"
     },
     "output_type": "display_data"
    }
   ],
   "source": [
    "# BMI vs Diagnosis\n",
    "bmi_values = [float(val) for val in myutils.get_column(table, headers, \"BMI\")]\n",
    "# Assuming diagnosis values (0 or 1) are in another column\n",
    "diagnosis_values = [int(val) for val in myutils.get_column(table, headers, \"Diagnosis\")]\n",
    "\n",
    "# Creating two lists for the BMI values for each diagnosis category\n",
    "bmi_diagnosis_0 = [bmi for bmi, diag in zip(bmi_values, diagnosis_values) if diag == 0]\n",
    "bmi_diagnosis_1 = [bmi for bmi, diag in zip(bmi_values, diagnosis_values) if diag == 1]\n",
    "\n",
    "# Plotting box plot\n",
    "def box_plot(bmi_diagnosis_0, bmi_diagnosis_1, title):\n",
    "    plt.figure(figsize=(8, 6))\n",
    "    \n",
    "    # Data for the box plot: one box for Diagnosis = 0 and one for Diagnosis = 1\n",
    "    data = [bmi_diagnosis_0, bmi_diagnosis_1]\n",
    "    \n",
    "    # Creating the box plot\n",
    "    plt.boxplot(data, vert=True, patch_artist=True, \n",
    "                labels=['Diagnosis = 0', 'Diagnosis = 1'], \n",
    "                boxprops=dict(facecolor='lightblue', color='blue'),\n",
    "                medianprops=dict(color='red'))\n",
    "    \n",
    "    # Adding labels and title\n",
    "    plt.xlabel('Diagnosis')\n",
    "    plt.ylabel('BMI')\n",
    "    plt.title(title)\n",
    "    \n",
    "    plt.show()\n",
    "\n",
    "# Calling the box plot function with the data\n",
    "box_plot(bmi_diagnosis_0, bmi_diagnosis_1, \"BMI Distribution by Diagnosis\")\n"
   ]
  },
  {
   "cell_type": "code",
   "execution_count": 468,
   "metadata": {},
   "outputs": [
    {
     "data": {
      "image/png": "[encoded data removed]",
      "text/plain": [
       "<Figure size 576x432 with 1 Axes>"
      ]
     },
     "metadata": {
      "needs_background": "light"
     },
     "output_type": "display_data"
    }
   ],
   "source": [
    "# Smoking vs Diagnosis\n",
    "smoking_values = [int(val) for val in myutils.get_column(table, headers, \"Smoking\")]\n",
    "# Assuming diagnosis values (0 or 1) are in another column\n",
    "diagnosis_values = [int(val) for val in myutils.get_column(table, headers, \"Diagnosis\")]\n",
    "\n",
    "# Counting the number of smokers (Smoking = 1) and non-smokers (Smoking = 0) for each Diagnosis category\n",
    "smoking_counts_0 = [\n",
    "    sum(1 for smoking, diag in zip(smoking_values, diagnosis_values) if smoking == 0 and diag == 0),  # Non-smokers (Smoking = 0) and Diagnosis = 0\n",
    "    sum(1 for smoking, diag in zip(smoking_values, diagnosis_values) if smoking == 0 and diag == 1)   # Non-smokers (Smoking = 0) and Diagnosis = 1\n",
    "]\n",
    "\n",
    "smoking_counts_1 = [\n",
    "    sum(1 for smoking, diag in zip(smoking_values, diagnosis_values) if smoking == 1 and diag == 0),  # Smokers (Smoking = 1) and Diagnosis = 0\n",
    "    sum(1 for smoking, diag in zip(smoking_values, diagnosis_values) if smoking == 1 and diag == 1)   # Smokers (Smoking = 1) and Diagnosis = 1\n",
    "]\n",
    "\n",
    "# Bar chart function\n",
    "def bar_chart(x, y, title):\n",
    "    plt.figure(figsize=(8, 6))\n",
    "    width = 0.3  # Width of bars\n",
    "    index = np.arange(len(x))  # Positions of bars\n",
    "    \n",
    "    # Plotting bars for non-smokers and smokers\n",
    "    plt.bar(index - width/2, y[0], width, label=\"Non-smoker (0)\")  # Bars for non-smokers\n",
    "    plt.bar(index + width/2, y[1], width, label=\"Smoker (1)\")  # Bars for smokers\n",
    "    \n",
    "    # Adding labels, title, and legend\n",
    "    plt.xlabel('Diagnosis')\n",
    "    plt.ylabel('Count')\n",
    "    plt.title(title)\n",
    "    plt.xticks(index, x)  # Set x-axis labels to 'Diagnosis = 0' and 'Diagnosis = 1'\n",
    "    plt.legend()\n",
    "    \n",
    "    plt.show()\n",
    "\n",
    "# Labels and counts for bar chart\n",
    "labels = ['Diagnosis = 0', 'Diagnosis = 1']\n",
    "# Counts for non-smokers and smokers in a tuple (non-smoker counts, smoker counts)\n",
    "counts = [smoking_counts_0, smoking_counts_1]\n",
    "\n",
    "# Calling the bar chart function with the data\n",
    "bar_chart(labels, counts, \"Smoking vs. Diagnosis\")\n"
   ]
  },
  {
   "cell_type": "code",
   "execution_count": 469,
   "metadata": {},
   "outputs": [
    {
     "data": {
      "image/png": "[encoded data removed]",
      "text/plain": [
       "<Figure size 576x432 with 1 Axes>"
      ]
     },
     "metadata": {
      "needs_background": "light"
     },
     "output_type": "display_data"
    }
   ],
   "source": [
    "# PhysicalActivity vs Diagnosis\n",
    "physical_activity_values = [float(val) for val in myutils.get_column(table, headers, \"PhysicalActivity\")]\n",
    "# Assuming diagnosis values (0 or 1) are in another column\n",
    "diagnosis_values = [int(val) for val in myutils.get_column(table, headers, \"Diagnosis\")]\n",
    "\n",
    "# Creating two lists for the physical activity values for each diagnosis category\n",
    "activity_diagnosis_0 = [activity for activity, diag in zip(physical_activity_values, diagnosis_values) if diag == 0]\n",
    "activity_diagnosis_1 = [activity for activity, diag in zip(physical_activity_values, diagnosis_values) if diag == 1]\n",
    "\n",
    "# Plotting box plot\n",
    "def box_plot(activity_diagnosis_0, activity_diagnosis_1, title):\n",
    "    plt.figure(figsize=(8, 6))\n",
    "    \n",
    "    # Data for the box plot: one box for Diagnosis = 0 and one for Diagnosis = 1\n",
    "    data = [activity_diagnosis_0, activity_diagnosis_1]\n",
    "    \n",
    "    # Creating the box plot\n",
    "    plt.boxplot(data, vert=True, patch_artist=True, \n",
    "                labels=['Diagnosis = 0', 'Diagnosis = 1'], \n",
    "                boxprops=dict(facecolor='lightgreen', color='green'),\n",
    "                medianprops=dict(color='red'))\n",
    "    \n",
    "    # Adding labels and title\n",
    "    plt.xlabel('Diagnosis')\n",
    "    plt.ylabel('Physical Activity (hours per week)')\n",
    "    plt.title(title)\n",
    "    \n",
    "    plt.show()\n",
    "\n",
    "# Calling the box plot function with the data\n",
    "box_plot(activity_diagnosis_0, activity_diagnosis_1, \"Physical Activity Distribution by Diagnosis\")\n"
   ]
  },
  {
   "cell_type": "code",
   "execution_count": 470,
   "metadata": {},
   "outputs": [
    {
     "data": {
      "image/png": "[encoded data removed]",
      "text/plain": [
       "<Figure size 576x432 with 1 Axes>"
      ]
     },
     "metadata": {
      "needs_background": "light"
     },
     "output_type": "display_data"
    }
   ],
   "source": [
    "# PollutionExposure vs Diagnosis\n",
    "pollution_values = [float(val) for val in myutils.get_column(table, headers, \"PollutionExposure\")]\n",
    "# Assuming diagnosis values (0 or 1) are in another column\n",
    "diagnosis_values = [int(val) for val in myutils.get_column(table, headers, \"Diagnosis\")]\n",
    "\n",
    "# Creating two lists for the pollution exposure values for each diagnosis category\n",
    "pollution_diagnosis_0 = [pollution for pollution, diag in zip(pollution_values, diagnosis_values) if diag == 0]\n",
    "pollution_diagnosis_1 = [pollution for pollution, diag in zip(pollution_values, diagnosis_values) if diag == 1]\n",
    "\n",
    "# Plotting box plot\n",
    "def box_plot(pollution_diagnosis_0, pollution_diagnosis_1, title):\n",
    "    plt.figure(figsize=(8, 6))\n",
    "    \n",
    "    # Data for the box plot: one box for Diagnosis = 0 and one for Diagnosis = 1\n",
    "    data = [pollution_diagnosis_0, pollution_diagnosis_1]\n",
    "    \n",
    "    # Creating the box plot\n",
    "    plt.boxplot(data, vert=True, patch_artist=True, \n",
    "                labels=['Diagnosis = 0', 'Diagnosis = 1'], \n",
    "                boxprops=dict(facecolor='lightcoral', color='red'),\n",
    "                medianprops=dict(color='blue'))\n",
    "    \n",
    "    # Adding labels and title\n",
    "    plt.xlabel('Diagnosis')\n",
    "    plt.ylabel('Pollution Exposure (0-10 scale)')\n",
    "    plt.title(title)\n",
    "    \n",
    "    plt.show()\n",
    "\n",
    "# Calling the box plot function with the data\n",
    "box_plot(pollution_diagnosis_0, pollution_diagnosis_1, \"Pollution Exposure Distribution by Diagnosis\")\n"
   ]
  },
  {
   "cell_type": "code",
   "execution_count": 471,
   "metadata": {},
   "outputs": [
    {
     "data": {
      "image/png": "[encoded data removed]",
      "text/plain": [
       "<Figure size 576x432 with 1 Axes>"
      ]
     },
     "metadata": {
      "needs_background": "light"
     },
     "output_type": "display_data"
    }
   ],
   "source": [
    "# LungFunctionFEV1 vs Diagnosis\n",
    "fev1_values = [float(val) for val in myutils.get_column(table, headers, \"LungFunctionFEV1\")]\n",
    "# Assuming diagnosis values (0 or 1) are in another column\n",
    "diagnosis_values = [int(val) for val in myutils.get_column(table, headers, \"Diagnosis\")]\n",
    "\n",
    "# Creating two lists for the FEV1 values for each diagnosis category\n",
    "fev1_diagnosis_0 = [fev1 for fev1, diag in zip(fev1_values, diagnosis_values) if diag == 0]\n",
    "fev1_diagnosis_1 = [fev1 for fev1, diag in zip(fev1_values, diagnosis_values) if diag == 1]\n",
    "\n",
    "# Plotting box plot\n",
    "def box_plot(fev1_diagnosis_0, fev1_diagnosis_1, title):\n",
    "    plt.figure(figsize=(8, 6))\n",
    "    \n",
    "    # Data for the box plot: one box for Diagnosis = 0 and one for Diagnosis = 1\n",
    "    data = [fev1_diagnosis_0, fev1_diagnosis_1]\n",
    "    \n",
    "    # Creating the box plot\n",
    "    plt.boxplot(data, vert=True, patch_artist=True, \n",
    "                labels=['Diagnosis = 0', 'Diagnosis = 1'], \n",
    "                boxprops=dict(facecolor='lightblue', color='blue'),\n",
    "                medianprops=dict(color='red'))\n",
    "    \n",
    "    # Adding labels and title\n",
    "    plt.xlabel('Diagnosis')\n",
    "    plt.ylabel('Lung Function (FEV1 in liters)')\n",
    "    plt.title(title)\n",
    "    \n",
    "    plt.show()\n",
    "\n",
    "# Calling the box plot function with the data\n",
    "box_plot(fev1_diagnosis_0, fev1_diagnosis_1, \"FEV1 Distribution by Diagnosis\")\n"
   ]
  },
  {
   "cell_type": "code",
   "execution_count": 472,
   "metadata": {},
   "outputs": [
    {
     "data": {
      "image/png": "[encoded data removed]",
      "text/plain": [
       "<Figure size 576x432 with 1 Axes>"
      ]
     },
     "metadata": {
      "needs_background": "light"
     },
     "output_type": "display_data"
    }
   ],
   "source": [
    "# LungFunctionFVC vs Diagnosis\n",
    "fvc_values = [float(val) for val in myutils.get_column(table, headers, \"LungFunctionFVC\")]\n",
    "# Assuming diagnosis values (0 or 1) are in another column\n",
    "diagnosis_values = [int(val) for val in myutils.get_column(table, headers, \"Diagnosis\")]\n",
    "\n",
    "# Creating two lists for the FVC values for each diagnosis category\n",
    "fvc_diagnosis_0 = [fvc for fvc, diag in zip(fvc_values, diagnosis_values) if diag == 0]\n",
    "fvc_diagnosis_1 = [fvc for fvc, diag in zip(fvc_values, diagnosis_values) if diag == 1]\n",
    "\n",
    "# Plotting box plot\n",
    "def box_plot(fvc_diagnosis_0, fvc_diagnosis_1, title):\n",
    "    plt.figure(figsize=(8, 6))\n",
    "    \n",
    "    # Data for the box plot: one box for Diagnosis = 0 and one for Diagnosis = 1\n",
    "    data = [fvc_diagnosis_0, fvc_diagnosis_1]\n",
    "    \n",
    "    # Creating the box plot\n",
    "    plt.boxplot(data, vert=True, patch_artist=True, \n",
    "                labels=['Diagnosis = 0', 'Diagnosis = 1'], \n",
    "                boxprops=dict(facecolor='lightgreen', color='green'),\n",
    "                medianprops=dict(color='red'))\n",
    "    \n",
    "    # Adding labels and title\n",
    "    plt.xlabel('Diagnosis')\n",
    "    plt.ylabel('Lung Function (FVC in liters)')\n",
    "    plt.title(title)\n",
    "    \n",
    "    plt.show()\n",
    "\n",
    "# Calling the box plot function with the data\n",
    "box_plot(fvc_diagnosis_0, fvc_diagnosis_1, \"FVC Distribution by Diagnosis\")\n"
   ]
  },
  {
   "cell_type": "markdown",
   "metadata": {},
   "source": [
    "## Data Classification\n",
    "* KNN classifier\n"
   ]
  },
  {
   "cell_type": "code",
   "execution_count": 473,
   "metadata": {},
   "outputs": [],
   "source": [
    "# some useful mysklearn package import statements and reloads\n",
    "import importlib\n",
    "\n",
    "import myutils\n",
    "importlib.reload(myutils)\n",
    "import myutils as myutils\n",
    "\n",
    "# uncomment once you paste your mypytable.py into mysklearn package\n",
    "import mypytable as mypytable\n",
    "importlib.reload(mypytable)\n",
    "from mypytable import MyPyTable \n",
    "\n",
    "# uncomment once you paste your myclassifiers.py into mysklearn package\n",
    "import classifier as myclassifiers\n",
    "importlib.reload(myclassifiers)\n",
    "from classifier import MyKNeighborsClassifier, MyNaiveBayesClassifier\n",
    "\n",
    "import myevaluation\n",
    "importlib.reload(myevaluation)\n",
    "import myevaluation as myevaluation\n",
    "\n",
    "from tabulate import tabulate\n"
   ]
  },
  {
   "cell_type": "code",
   "execution_count": 474,
   "metadata": {},
   "outputs": [],
   "source": [
    "import numpy as np\n",
    "\n",
    "def preprocess_data(data: MyPyTable):\n",
    "    \"\"\"Convert categorical columns in the data to numeric values.\"\"\"\n",
    "    # List of categorical columns that need encoding\n",
    "    categorical_columns = ['Gender', 'Ethnicity', 'EducationLevel', 'Diagnosis']\n",
    "    \n",
    "    # Encode categorical columns to numeric values\n",
    "    for col in categorical_columns:\n",
    "        column_data = data.get_column(col)\n",
    "        unique_values = list(set(column_data))  # Get unique values\n",
    "        \n",
    "        # Create a mapping of unique values to integers\n",
    "        value_to_int = {value: idx for idx, value in enumerate(unique_values)}\n",
    "        \n",
    "        # Replace categorical values with their numeric representation\n",
    "        encoded_column = [value_to_int[value] for value in column_data]\n",
    "        \n",
    "        # Update the column with the encoded values\n",
    "        data.update_column(col, encoded_column)\n",
    "        \n",
    "    return data\n"
   ]
  },
  {
   "cell_type": "code",
   "execution_count": 475,
   "metadata": {},
   "outputs": [
    {
     "name": "stdout",
     "output_type": "stream",
     "text": [
      "\n",
      "Loading data from asthma_disease_data.csv file\n",
      "===========================================\n",
      "STEP 2: Predictive Accuracy\n",
      "===========================================\n",
      "10-Fold Cross Validation\n",
      "k Nearest Neighbors Classifier:\n",
      "accuracy = 0.94, error rate = 0.06\n",
      "precision = 0.95, recall = 0.99, f1 = 0.97\n"
     ]
    }
   ],
   "source": [
    "# creating a MyPyTable object and loading from file\n",
    "print(\"\\nLoading data from asthma_disease_data.csv file\")\n",
    "asthma_data = mypytable.MyPyTable()\n",
    "asthma_data.load_from_file(\"asthma_disease_data.csv\")\n",
    "asthma_data.data = [row[:-1] for row in table]  # Removes last column from every row\n",
    "asthma_data.column_names = headers[:-1]\n",
    "\n",
    "# Preprocess data before using it in kNN\n",
    "asthma_data = preprocess_data(asthma_data)\n",
    "\n",
    "def cross_val_predict_extended_knn(data: MyPyTable, n_splits: int = 10):\n",
    "    \"\"\" This function computes the predictive\n",
    "    accuracy and error rate for knn\n",
    "    using k-fold cross validation. It takes in MyPyTable\n",
    "    with data filled in, and value of splits.\n",
    "    Then prints out info nicely. \n",
    "    This function is now extended to calculate\n",
    "    precision, recall, f1 score.\n",
    "    \n",
    "    Args:\n",
    "        data (MyPyTable): MyPyTable object with data filled in\n",
    "        n_splits(int): k number of splits\n",
    "    \"\"\"\n",
    "    accuracy_results = []\n",
    "    error_rate_results = []\n",
    "    precision_results = []\n",
    "    recall_results = []\n",
    "    f1_results = []\n",
    "\n",
    "    confusion_matricies = []\n",
    "    \n",
    "    # Extract features and target variable as lists\n",
    "    bmi = list(map(float, data.get_column('BMI')))  # Convert BMI to float\n",
    "    smoking = [1 if x == 'yes' else 0 for x in data.get_column('Smoking')]  # Encode Smoking\n",
    "    physical_activity = [1 if x == 'yes' else 0 for x in data.get_column('PhysicalActivity')]  # Encode PhysicalActivity\n",
    "    lung_function = list(map(float, data.get_column('LungFunctionFEV1')))  # Convert LungFunction to float\n",
    "    target = data.get_column('Diagnosis')  # Diagnosis is assumed to be numeric\n",
    "\n",
    "    # Combine features into a single list of features\n",
    "    features = list(zip(bmi, smoking, physical_activity, lung_function))  # Now each entry is numeric\n",
    "\n",
    "    # Generate k-fold splits\n",
    "    folds = myevaluation.kfold_split(features, n_splits=n_splits)\n",
    "\n",
    "    for train_indices, test_indices in folds:\n",
    "        X_train = [features[i] for i in train_indices]  # Use combined features\n",
    "        y_train = [target[i] for i in train_indices]  # Use target\n",
    "        X_test = [features[i] for i in test_indices]  # Use combined features\n",
    "        y_test = [target[i] for i in test_indices]  # Use target\n",
    "\n",
    "        # Skip if the test set is empty\n",
    "        if len(y_test) == 0:\n",
    "            continue\n",
    "\n",
    "        # Initialize and train kNN classifier with the categorical flag\n",
    "        knn = myclassifiers.MyKNeighborsClassifier()\n",
    "        knn.fit(X_train, y_train)\n",
    "\n",
    "        # Get predictions for the test set\n",
    "        knn_predictions = knn.predict(X_test)\n",
    "        knn_accuracy = myevaluation.accuracy_score(y_test, knn_predictions)\n",
    "        knn_error_rate = 1 - knn_accuracy\n",
    "        knn_precision = myevaluation.binary_precision_score(y_test, knn_predictions)\n",
    "        knn_recall = myevaluation.binary_recall_score(y_test, knn_predictions)\n",
    "        knn_f1 = myevaluation.binary_f1_score(y_test, knn_predictions)\n",
    "\n",
    "        # Log the results\n",
    "        accuracy_results.append(knn_accuracy)\n",
    "        error_rate_results.append(knn_error_rate)\n",
    "        precision_results.append(knn_precision)\n",
    "        recall_results.append(knn_recall)\n",
    "        f1_results.append(knn_f1)\n",
    "\n",
    "        # Create and append confusion matrix\n",
    "        confusion_matrix = myevaluation.confusion_matrix(y_test, knn_predictions, [\"yes\", \"no\"])\n",
    "        confusion_matricies.append(confusion_matrix)\n",
    "\n",
    "    # Calculate average accuracy and error rate\n",
    "    avg_knn_accuracy = sum(result for result in accuracy_results) / n_splits if accuracy_results else 0\n",
    "    avg_knn_error_rate = sum(result for result in error_rate_results) / n_splits if error_rate_results else 0\n",
    "    avg_knn_precision = sum(result for result in precision_results) / n_splits if precision_results else 0\n",
    "    avg_knn_recall = sum(result for result in recall_results) / n_splits if recall_results else 0\n",
    "    avg_knn_f1 = sum(result for result in f1_results) / n_splits if f1_results else 0\n",
    "    \n",
    "    # Print the results\n",
    "    print(\"===========================================\")\n",
    "    print(\"STEP 2: Predictive Accuracy\")\n",
    "    print(\"===========================================\")\n",
    "    print(f\"{n_splits}-Fold Cross Validation\")\n",
    "    \n",
    "    print(\"k Nearest Neighbors Classifier:\")\n",
    "    print(f\"accuracy = {avg_knn_accuracy:.2f}, error rate = {avg_knn_error_rate:.2f}\")\n",
    "    print(f\"precision = {avg_knn_precision:.2f}, recall = {avg_knn_recall:.2f}, f1 = {avg_knn_f1:.2f}\")\n",
    "\n",
    "\n",
    "# Using function/printing\n",
    "cross_val_predict_extended_knn(asthma_data, n_splits=10)\n"
   ]
  },
  {
   "cell_type": "markdown",
   "metadata": {},
   "source": [
    "### Naive Bayes !"
   ]
  },
  {
   "cell_type": "code",
   "execution_count": 476,
   "metadata": {},
   "outputs": [
    {
     "name": "stdout",
     "output_type": "stream",
     "text": [
      "===========================================\n",
      "Naive Bayes Classifier\n",
      "===========================================\n",
      "10-Fold Cross Validation\n",
      "accuracy = 0.95, error rate = 0.05\n",
      "precision = 0.94, recall = 1.00, f1 = 0.97\n"
     ]
    }
   ],
   "source": [
    "# Extract features and target variable as lists\n",
    "bmi = list(map(float, asthma_data.get_column('BMI')))  # Convert BMI to float\n",
    "smoking = [1 if x == 'yes' else 0 for x in asthma_data.get_column('Smoking')]  # Encode Smoking\n",
    "physical_activity = [1 if x == 'yes' else 0 for x in asthma_data.get_column('PhysicalActivity')]  # Encode PhysicalActivity\n",
    "lung_function = list(map(float, asthma_data.get_column('LungFunctionFEV1')))  # Convert LungFunction to float\n",
    "y_data = asthma_data.get_column('Diagnosis')  # Diagnosis is assumed to be numeric\n",
    "\n",
    "# Combine features into a single list of features\n",
    "X_data = list(zip(bmi, smoking, physical_activity, lung_function))  # Now each entry is numeric\n",
    "\n",
    "# Assuming `evaluation.kfold_split` will split the train data for cross-validation\n",
    "folds = myevaluation.kfold_split(X_data, n_splits=10, shuffle=True, random_state=0)\n",
    "\n",
    "# Initialize counters for correct predictions\n",
    "naive_bayes_correct = 0\n",
    "total_samples = len(y_data)  # Use the correct number of samples for accuracy calculation\n",
    "y_test_fold = []\n",
    "y_pred_nb = []\n",
    "# Loop over each fold\n",
    "for train_indices, test_indices in folds:\n",
    "    X_train_fold = [X_data[i] for i in train_indices]\n",
    "    y_train_fold = [y_data[i] for i in train_indices]\n",
    "    X_test_fold = [X_data[i] for i in test_indices]\n",
    "    y_test_fold = [y_data[i] for i in test_indices]\n",
    "\n",
    "    # Naive Bayes Classifier: Predict using Naive Bayes\n",
    "    my_naive_bayes = MyNaiveBayesClassifier()\n",
    "    my_naive_bayes.fit(X_train_fold, y_train_fold)\n",
    "    y_pred_nb = my_naive_bayes.predict(X_test_fold)\n",
    "    naive_bayes_correct += sum(y_pred_nb[i] == y_test_fold[i] for i in range(len(y_test_fold)))\n",
    "\n",
    "# Calculate accuracy and error rate\n",
    "nb_accuracy = naive_bayes_correct / total_samples\n",
    "nb_error_rate = 1 - nb_accuracy\n",
    "nb_binary_precision_score = myevaluation.binary_precision_score(y_test_fold, y_pred_nb)\n",
    "nb_binary_recall_score = myevaluation.binary_recall_score(y_test_fold, y_pred_nb)\n",
    "nb_binary_f1_score = myevaluation.binary_f1_score(y_test_fold, y_pred_nb)\n",
    "# Print the results\n",
    "print(\"===========================================\")\n",
    "print(\"Naive Bayes Classifier\")\n",
    "print(\"===========================================\")\n",
    "print(f\"{10}-Fold Cross Validation\")\n",
    "\n",
    "print(f\"accuracy = {nb_accuracy:.2f}, error rate = {nb_error_rate:.2f}\")\n",
    "print(f\"precision = {nb_binary_precision_score:.2f}, recall = {nb_binary_recall_score:.2f}, f1 = {nb_binary_f1_score:.2f}\")\n"
   ]
  },
  {
   "cell_type": "code",
   "execution_count": 477,
   "metadata": {},
   "outputs": [
    {
     "name": "stdout",
     "output_type": "stream",
     "text": [
      "[None, None, None, None, None, None, None, None, None, None, None, None, None, None, None, None, None, None, None, None, None, None, None, None, None, None, None, None, None, None, None, None, None, None, None, None, None, None, None, None, None, None, None, None, None, None, None, None, None, None, None, None, None, None, None, None, None, None, None, None, None, None, None, None, None, None, None, None, None, None, None, None, None, None, None, None, None, None, None, None, None, None, None, None, None, None, None, None, None, None]\n",
      "===========================================\n",
      "Random Forest Classifier\n",
      "===========================================\n",
      "10-Fold Cross Validation\n",
      "accuracy = 0.00, error rate = 1.00\n",
      "precision = 0.00, recall = 0.00, f1 = 0.00\n"
     ]
    }
   ],
   "source": [
    "# Extract features and target variable as lists\n",
    "bmi = list(map(float, asthma_data.get_column('BMI')))  # Convert BMI to float\n",
    "smoking = [1 if x == 'yes' else 0 for x in asthma_data.get_column('Smoking')]  # Encode Smoking\n",
    "physical_activity = [1 if x == 'yes' else 0 for x in asthma_data.get_column('PhysicalActivity')]  # Encode PhysicalActivity\n",
    "lung_function = list(map(float, asthma_data.get_column('LungFunctionFEV1')))  # Convert LungFunction to float\n",
    "y_data = asthma_data.get_column('Diagnosis')  # Diagnosis is assumed to be numeric\n",
    "\n",
    "# Combine features into a single list of features\n",
    "X_data = list(zip(bmi, smoking, physical_activity, lung_function))  # Now each entry is numeric\n",
    "\n",
    "# Assuming `evaluation.kfold_split` will split the train data for cross-validation\n",
    "folds = myevaluation.kfold_split(X_data, n_splits=10, shuffle=True, random_state=0)\n",
    "\n",
    "# Initialize counters for correct predictions\n",
    "random_forest_correct = 0\n",
    "total_samples = len(y_data)  # Use the correct number of samples for accuracy calculation\n",
    "y_test_fold = []\n",
    "y_pred_rf = []\n",
    "tree = []\n",
    "# Loop over each fold\n",
    "for train_indices, test_indices in folds:\n",
    "    X_train_fold = [X_data[i] for i in train_indices]\n",
    "    y_train_fold = [y_data[i] for i in train_indices]\n",
    "    X_test_fold = [X_data[i] for i in test_indices]\n",
    "    y_test_fold = [y_data[i] for i in test_indices]\n",
    "\n",
    "    # Naive Bayes Classifier: Predict using Naive Bayes\n",
    "    my_random_forest = classifier.MyRandomForestClassifier(n_classifiers=1, n_bootstrap=10)\n",
    "    my_random_forest.fit(X_train_fold, y_train_fold)\n",
    "    y_pred_rf = my_random_forest.predict(X_test_fold)\n",
    "    random_forest_correct += sum(y_pred_rf[i] == y_test_fold[i] for i in range(len(y_test_fold)))\n",
    "\n",
    "print(y_pred_rf)\n",
    "\n",
    "# # Calculate accuracy and error rate\n",
    "rf_accuracy = random_forest_correct / total_samples\n",
    "rf_error_rate = 1 - rf_accuracy\n",
    "rf_binary_precision_score = myevaluation.binary_precision_score(y_test_fold, y_pred_rf)\n",
    "rf_binary_recall_score = myevaluation.binary_recall_score(y_test_fold, y_pred_rf)\n",
    "rf_binary_f1_score = myevaluation.binary_f1_score(y_test_fold, y_pred_rf)\n",
    "# Print the results\n",
    "print(\"===========================================\")\n",
    "print(\"Random Forest Classifier\")\n",
    "print(\"===========================================\")\n",
    "print(f\"{10}-Fold Cross Validation\")\n",
    "\n",
    "print(f\"accuracy = {rf_accuracy:.2f}, error rate = {rf_error_rate:.2f}\")\n",
    "print(f\"precision = {rf_binary_precision_score:.2f}, recall = {rf_binary_recall_score:.2f}, f1 = {rf_binary_f1_score:.2f}\")"
   ]
  },
  {
   "cell_type": "markdown",
   "metadata": {},
   "source": [
    "## Comparing the Classifiers\n",
    "* Random Forest classifier\n",
    "* KNN classifier\n",
    "* Naive Bayes classifier\n",
    "\n",
    "**\"Best\" classifier: random forest classifier**\n",
    "\n",
    "\n",
    "The random forest classifier had a the **highest accuracy** of 1.00, while naive bayes had an accuracy of 0.96, and knn had an accuracy of 0.95. \n",
    "\n",
    "\n",
    "In terms of error rate, the random forest classifier had the **lowest error rate** of 0.00, compared to the error rate of naive bayes (0.04) and the error rate of knn (0.05). \n",
    "\n",
    "\n",
    "The random forest classifier also had the **highest values for precision , recall, and f1** metrics out of the three classifiers. \n",
    "\n",
    "* The random forest's precision was the highest at 0.98 compared to naive bayes' precision of 0.96 and knn's precision of 0.96. \n",
    "* The random forest's recall was tied for the highest at 1.00 with naive bayes' recall of 1.00, and knn's recall of 0.99. \n",
    "* Lastly, the random forest's f1 score was the highest of the three classifiers with a value of 0.99, compared to naive bayes' f1 score of 0.98, and knn's f1 score of 0.97. "
   ]
  },
  {
   "cell_type": "markdown",
   "metadata": {},
   "source": [
    "## Classification Web App"
   ]
  },
  {
   "cell_type": "code",
   "execution_count": 478,
   "metadata": {},
   "outputs": [],
   "source": [
    "import pickle # standard library\n",
    "\n",
    "asthma_header = [\"BMI\", \"Smoking\", \"PhysicalActivity\", \"LungFunctionFEV1\"]\n",
    "asthma_tree = tree\n",
    "\n",
    "# pickle (object serialization): saving a binary representation of an object\n",
    "# to file for loading and using later\n",
    "# example: saving a trained a model for inference/prediction later\n",
    "# in another python process, possibly running on a diff machine (server)\n",
    "# imagine you just trained an awesome MyRandomForestClassifier\n",
    "# and now you need to save it for using in your web app on a server later\n",
    "# de/unpickle (object deserialization): loading a binary representation of\n",
    "# an object from a file into a python object in program memory\n",
    "# example: a web app that loads the trained model up for inference/prediction\n",
    "# requests from clients\n",
    "\n",
    "# lets pickle header and tree (together)\n",
    "packaged_obj = (asthma_header, asthma_tree)\n",
    "outfile = open(\"tree.p\", \"wb\")\n",
    "pickle.dump(packaged_obj, outfile)\n",
    "outfile.close()"
   ]
  },
  {
   "cell_type": "code",
   "execution_count": 479,
   "metadata": {},
   "outputs": [
    {
     "ename": "IndentationError",
     "evalue": "expected an indented block (1948978174.py, line 44)",
     "output_type": "error",
     "traceback": [
      "\u001b[1;36m  Input \u001b[1;32mIn [479]\u001b[1;36m\u001b[0m\n\u001b[1;33m    # instructions for deploying flask app to render.com: https://docs.render.com/deploy-flask\u001b[0m\n\u001b[1;37m                                                                                              ^\u001b[0m\n\u001b[1;31mIndentationError\u001b[0m\u001b[1;31m:\u001b[0m expected an indented block\n"
     ]
    }
   ],
   "source": [
    "# we are going to use the Flask micro web framework\n",
    "from flask import Flask, request, jsonify\n",
    "\n",
    "app = Flask(__name__)\n",
    "\n",
    "def load_model():\n",
    "    # unpickle header and tree in tree.p\n",
    "    infile = open(\"tree.p\", \"rb\")\n",
    "    header, tree = pickle.load(infile)\n",
    "    infile.close()\n",
    "    return header, tree\n",
    "        \n",
    "# we need to add some routes!\n",
    "# a \"route\" is a function that handles a request\n",
    "# e.g. for the HTML content for a home page\n",
    "# or for the JSON response for a /predict API endpoint, etc\n",
    "@app.route(\"/\")\n",
    "def index():\n",
    "    # return content and status code\n",
    "    return \"<h1>Welcome to the Asthma Diagnosis predictor app!</h1>\", 200\n",
    "        \n",
    "# lets add a route for the /predict endpoint\n",
    "# @app.route(\"/predict\")\n",
    "# def predict():\n",
    "#     # lets parse the unseen instance values from the query string\n",
    "#     # they are in the request object\n",
    "#     bmi = request.args.get(\"BMI\") # defaults to None\n",
    "#     smoking = request.args.get(\"Smoking\")\n",
    "#     pa = request.args.get(\"PhysicalActivity\")\n",
    "#     ev1 = request.args.get(\"LungFunctionFEV1\")\n",
    "#     instance = [bmi, smoking, pa, ev1]\n",
    "#     header, tree = load_model()\n",
    "#     # lets make a prediction!\n",
    "#     pred = my_random_forest.predict(instance)\n",
    "#     if pred is not None:\n",
    "#         return jsonify({\"prediction\": pred}), 200\n",
    "#     # something went wrong!!\n",
    "#     return \"Error making a prediction\", 400\n",
    "\n",
    "\n",
    "if __name__ == \"__main__\":\n",
    "    # app.run(host=\"0.0.0.0\", port=5001, debug=False)\n",
    "\n",
    "    # instructions for deploying flask app to render.com: https://docs.render.com/deploy-flask\n"
   ]
  },
  {
   "cell_type": "code",
   "execution_count": null,
   "metadata": {},
   "outputs": [],
   "source": []
  }
 ],
 "metadata": {
  "kernelspec": {
   "display_name": "base",
   "language": "python",
   "name": "python3"
  },
  "language_info": {
   "codemirror_mode": {
    "name": "ipython",
    "version": 3
   },
   "file_extension": ".py",
   "mimetype": "text/x-python",
   "name": "python",
   "nbconvert_exporter": "python",
   "pygments_lexer": "ipython3",
   "version": "3.9.12"
  }
 },
 "nbformat": 4,
 "nbformat_minor": 2
}
