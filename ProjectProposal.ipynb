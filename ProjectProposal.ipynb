{
 "cells": [
  {
   "cell_type": "code",
   "execution_count": 17,
   "metadata": {},
   "outputs": [
    {
     "data": {
      "text/plain": [
       "<module 'utils' from '/home/CPSC322-Final-Project/utils.py'>"
      ]
     },
     "execution_count": 17,
     "metadata": {},
     "output_type": "execute_result"
    }
   ],
   "source": [
    "import importlib\n",
    "\n",
    "import utils\n",
    "importlib.reload(utils)"
   ]
  },
  {
   "cell_type": "markdown",
   "metadata": {},
   "source": [
    "# **Asthma Diagnosis**\n",
    "\n",
    "### *Team members: Lauren Chin and Lauren Nguyen*"
   ]
  },
  {
   "cell_type": "markdown",
   "metadata": {},
   "source": [
    "## Dataset\n",
    "\n",
    "* Source: [Asthma Dataset](https://www.kaggle.com/datasets/rabieelkharoua/asthma-disease-dataset) \n",
    "* Format: CSV File\n",
    "* Contents: This data set contains the patient information for those who are diagnosed with Asthma. Asthma is a chronic lung disease that causes inflamation and tightening of the airways, often making it hard to breath. This dataset contains 2,392 different patients that involve their medical history, symptoms, allergies, and much more.\n",
    "* Attributes:\n",
    "    * `PatientID` - a unique identifier for each patient\n",
    "    * `Age` - age of patient\n",
    "    * `Gender` - 0 for male and 1 for female\n",
    "    * `Ethnicity` - encoded as:\n",
    "        * 0: Caucasian\n",
    "        * 1: African American\n",
    "        * 2: Asian\n",
    "        * 3: Other\n",
    "    * `EducationLevel` - encoded as:\n",
    "        * 0: None\n",
    "        * 1: High School\n",
    "        * 2: Bachelors\n",
    "        * 3: Higher\n",
    "    * `BMI` - body mass index, ranges from 15-40\n",
    "    * `Smoking` - 0 for no and 1 for yes\n",
    "    * `PhysicalActivity` - weekly physical activity(hours), ranges 0-10\n",
    "    * `DietQuality` - ranges from 0-10\n",
    "    * `SleepQuality` - ranges from 4-10\n",
    "    * `PollutionExposure` - scored from 0-10\n",
    "    * `PollenExposure` - scored from 0-10\n",
    "    * `DustExposure` - scored from 0-10\n",
    "    * `LungFunctionFEV1` - Forced Expiratory Volume in 1 second (FEV1), ranging from 1.0 to 4.0 liters.\n",
    "    * `LungFunctionFVC` - Forced Vital Capacity (FVC), ranging from 1.5 to 6.0 liters.\n",
    "    * `PetAllergy`\n",
    "    * `FamilyHistoryAsthma` \n",
    "    * `HistoryOfAllergies`\n",
    "    * `Eczema` \n",
    "    * `HayFever` \n",
    "    * `GastroesophagealReflux`\n",
    "    * `Wheezing`\n",
    "    * `Coughing`\n",
    "    * `ChestTightness`\n",
    "    * `ShortnessOfBreath`\n",
    "    * `NighttimeSymptoms`\n",
    "    * `ExerciseInduced`\n",
    "    * `DoctorInCharge` - doctor in charge, confidential for all instances\n",
    "    * **`Diagnosis`** - diagnosis status for asthma patient. 0 for no and 1 for yes\n",
    "\n",
    "    \n",
    "    "
   ]
  },
  {
   "cell_type": "markdown",
   "metadata": {},
   "source": [
    "## Implementation/Technical Merit\n",
    "\n",
    "### Anticipated Challenges\n",
    "* Pre-processing:\n",
    "    * Because there are so many attributes, deciding to use a subset of them or all of them\n",
    "        * To pare down the attributes, we could randomly select different subsets and compare the model performances to select the \"best\" attributes\n",
    "        * However, we instead will likely use unsupervised learning to graph the attributes in comparison to the classifier attribute and determine which attributes have the strongest correlations and use those\n",
    "    * Discretizing our dataset could be a challenge because there are many attributes with float values that are quite specific (lots of decimal places)\n",
    "        * For example some of these attributes are: PhysicalActivity (0-10, but float long decimals), DietQuality (0-10, but float long decimals), SleepQuality (4-10, but float long decimals), and others\n",
    "\n",
    "* Classification: \n",
    "    * Because there are so many attributes, making sure that we don't overfit our model\n",
    "    "
   ]
  },
  {
   "cell_type": "markdown",
   "metadata": {},
   "source": [
    "## Potential Impact of Results\n",
    "\n",
    "* Why these results are useful:\n",
    "    * We are looking at the asthma dataset with the goal of creating classifiers to predict if someone has asthma or not\n",
    "    * These results are useful because it can help with medical diagnosis\n",
    "    * While asthma isn't as life threatening as a disease like cancer, detection is still important so measures can be taken to help ease symptoms for patients\n",
    "\n",
    "* Stakeholders:\n",
    "    * Doctors (people who have to make the medical diagnosis)\n",
    "    * Patients (people who could potentially have asthma)\n"
   ]
  },
  {
   "cell_type": "markdown",
   "metadata": {},
   "source": [
    "# Loading Data"
   ]
  },
  {
   "cell_type": "code",
   "execution_count": 18,
   "metadata": {},
   "outputs": [],
   "source": [
    "table = utils.load('asthma_disease_data.csv')\n",
    "\n",
    "headers = table.pop(0)"
   ]
  },
  {
   "cell_type": "markdown",
   "metadata": {},
   "source": [
    "# Cleaning\n",
    "\n",
    "1. Removing unnecessary features\n",
    "    * `EducationLevel`\n",
    "    * `DoctorInCharge`"
   ]
  },
  {
   "cell_type": "code",
   "execution_count": 19,
   "metadata": {},
   "outputs": [],
   "source": [
    "table, headers = utils.remove_cols(table, headers, ['EducationLevel', 'DoctorInCharge'])"
   ]
  },
  {
   "cell_type": "markdown",
   "metadata": {},
   "source": [
    "# Exploratory Data Analysis (EDA)\n",
    "\n",
    "## Data Visualization\n",
    "Scatter Plots with linear regression fit lines\n",
    "* Age vs. Diagnosis\n",
    "* Gender vs. Diagnosis\n",
    "* Ethnicity vs. Diagnosis\n",
    "* EducationLevel vs. Diagnosis\n",
    "* BMI vs. Diagnosis\n",
    "* Smoking vs. Diagnosis\n",
    "* PhysicalActivity vs. Diagnosis\n",
    "* PollutionExposure vs. Diagnosis\n",
    "* LungFunctionFEV1 vs. Diagnosis\n",
    "* LungFunctionFVC vs. Diagnosis"
   ]
  },
  {
   "cell_type": "code",
   "execution_count": 20,
   "metadata": {},
   "outputs": [
    {
     "data": {
      "image/png": "[encoded data removed]",
      "text/plain": [
       "<Figure size 640x480 with 1 Axes>"
      ]
     },
     "metadata": {},
     "output_type": "display_data"
    }
   ],
   "source": [
    "import matplotlib.pyplot as plt \n",
    "import numpy as np\n",
    "from scipy import stats\n",
    "\n",
    "importlib.reload(utils)\n",
    "np.random.seed(0)\n",
    "\n",
    "# Age vs Diagnosis\n",
    "x = [int(val) for val in utils.get_column(table, headers, \"Age\")]\n",
    "y = [int(val) for val in utils.get_column(table, headers, \"Diagnosis\")]\n",
    "\n",
    "# m,b = utils.compute_slope_intercept(x,y)\n",
    "# print(m,b)\n",
    "\n",
    "# plt.scatter(x,y)\n",
    "# # let's plot the fit line y = mx + b\n",
    "# plt.plot([min(x), max(x)], [m * min(x) + b, m * max(x) + b], c=\"red\", lw=3)\n",
    "\n",
    "# Split Age based on Diagnosis\n",
    "age_diagnosis_0 = [age for age, diag in zip(x, y) if diag == 0]\n",
    "age_diagnosis_1 = [age for age, diag in zip(x, y) if diag == 1]\n",
    "\n",
    "# Box plot example function\n",
    "def box_plot_example(distributions, labels):\n",
    "    plt.figure()\n",
    "    plt.boxplot(distributions, labels=labels)\n",
    "\n",
    "    plt.show()\n",
    "\n",
    "# Call the box plot function with the data\n",
    "box_plot_example([age_diagnosis_0, age_diagnosis_1], [\"Diagnosis = 0\", \"Diagnosis = 1\"])"
   ]
  }
 ],
 "metadata": {
  "kernelspec": {
   "display_name": "base",
   "language": "python",
   "name": "python3"
  },
  "language_info": {
   "codemirror_mode": {
    "name": "ipython",
    "version": 3
   },
   "file_extension": ".py",
   "mimetype": "text/x-python",
   "name": "python",
   "nbconvert_exporter": "python",
   "pygments_lexer": "ipython3",
   "version": "3.12.4"
  }
 },
 "nbformat": 4,
 "nbformat_minor": 2
}
