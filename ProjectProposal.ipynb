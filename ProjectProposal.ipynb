{
 "cells": [
  {
   "cell_type": "markdown",
   "metadata": {},
   "source": [
    "# Name of Project Here\n",
    "\n",
    "Team members: Lauren Chin and Lauren Nguyen\n",
    "\n",
    "possible datasets: \n",
    "* [Alzheimer's Dataset](https://www.kaggle.com/datasets/rabieelkharoua/alzheimers-disease-dataset)\n",
    "* [Breast Cancer Dataset](https://www.kaggle.com/datasets/saurabhbadole/breast-cancer-wisconsin-state)\n",
    "* [General Cancer Dataset](https://www.kaggle.com/datasets/rabieelkharoua/cancer-prediction-dataset)\n",
    "* [Asthma Dataset](https://www.kaggle.com/datasets/rabieelkharoua/asthma-disease-dataset)\n",
    "\n"
   ]
  },
  {
   "cell_type": "markdown",
   "metadata": {},
   "source": [
    "## Dataset\n",
    "\n",
    "* Source:\n",
    "* Format:\n",
    "* Contents:\n",
    "* Attributes:\n"
   ]
  },
  {
   "cell_type": "markdown",
   "metadata": {},
   "source": [
    "## Implementation/Technical Merit\n",
    "\n",
    "### Anticipated Challenges\n",
    "* Pre-processing:\n",
    "* Classification: \n"
   ]
  },
  {
   "cell_type": "markdown",
   "metadata": {},
   "source": [
    "## Potential Impact of Results\n",
    "\n",
    "* Why these results are useful:\n",
    "* Stakeholders:\n"
   ]
  }
 ],
 "metadata": {
  "language_info": {
   "name": "python"
  }
 },
 "nbformat": 4,
 "nbformat_minor": 2
}
