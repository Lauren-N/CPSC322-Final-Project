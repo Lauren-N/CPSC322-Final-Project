{
 "cells": [
  {
   "cell_type": "markdown",
   "metadata": {},
   "source": [
    "# Name of Project Here\n",
    "\n",
    "Team members: Lauren Chin and Lauren Nguyen\n",
    "\n",
    "possible datasets: \n",
    "* [Alzheimer's Dataset](https://www.kaggle.com/datasets/rabieelkharoua/alzheimers-disease-dataset)\n",
    "* [Breast Cancer Dataset](https://www.kaggle.com/datasets/saurabhbadole/breast-cancer-wisconsin-state)\n",
    "* [General Cancer Dataset](https://www.kaggle.com/datasets/rabieelkharoua/cancer-prediction-dataset)\n",
    "* [Asthma Dataset](https://www.kaggle.com/datasets/rabieelkharoua/asthma-disease-dataset)\n",
    "\n"
   ]
  },
  {
   "cell_type": "markdown",
   "metadata": {},
   "source": [
    "## Dataset\n",
    "\n",
    "* Source:\n",
    "* Format:\n",
    "* Contents:\n",
    "* Attributes:\n"
   ]
  },
  {
   "cell_type": "markdown",
   "metadata": {},
   "source": [
    "## Implementation/Technical Merit\n",
    "\n",
    "### Anticipated Challenges\n",
    "* Pre-processing:\n",
    "    * Because there are so many attributes, deciding to use a subset of them or all of them\n",
    "        * To pare down the attributes, we could randomly select different subsets and compare the model performances to select the \"best\" attributes\n",
    "        * However, we instead will likely use unsupervised learning to graph the attributes in comparison to the classifier attribute and determine which attributes have the strongest correlations and use those\n",
    "    * Discretizing our dataset could be a challenge because there are many attributes with float values that are quite specific (lots of decimal places)\n",
    "        * For example some of these attributes are: PhysicalActivity (0-10, but float long decimals), DietQuality (0-10, but float long decimals), SleepQuality (4-10, but float long decimals), and others\n",
    "\n",
    "* Classification: \n",
    "    * Because there are so many attributes, making sure that we don't overfit our model\n",
    "    "
   ]
  },
  {
   "cell_type": "markdown",
   "metadata": {},
   "source": [
    "## Potential Impact of Results\n",
    "\n",
    "* Why these results are useful:\n",
    "    * We are looking at the asthma dataset with the goal of creating classifiers to predict if someone has asthma or not\n",
    "    * These results are useful because it can help with medical diagnosis\n",
    "    * While asthma isn't as life threatening as a disease like cancer, detection is still important so measures can be taken to help ease symptoms for patients\n",
    "\n",
    "* Stakeholders:\n",
    "    * Doctors (people who have to make the medical diagnosis)\n",
    "    * Patients (people who could potentially have asthma)\n"
   ]
  }
 ],
 "metadata": {
  "language_info": {
   "name": "python"
  }
 },
 "nbformat": 4,
 "nbformat_minor": 2
}
